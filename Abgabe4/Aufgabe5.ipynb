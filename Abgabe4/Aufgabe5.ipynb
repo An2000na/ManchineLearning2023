{
 "cells": [
  {
   "cell_type": "code",
   "execution_count": 82,
   "metadata": {},
   "outputs": [],
   "source": [
    "import torch\n",
    "import numpy as np\n",
    "import matplotlib.pyplot as plt\n",
    "import numpy as np"
   ]
  },
  {
   "cell_type": "code",
   "execution_count": 83,
   "metadata": {},
   "outputs": [
    {
     "name": "stdout",
     "output_type": "stream",
     "text": [
      "Epoch 0, Loss 80.364345\n",
      "Epoch 1, Loss 37.574914\n",
      "Epoch 500, Loss 7.843380\n",
      "Epoch 1000, Loss 3.825484\n",
      "Epoch 1500, Loss 3.091632\n",
      "Epoch 2000, Loss 2.957597\n",
      "Epoch 2500, Loss 2.933116\n",
      "Epoch 3000, Loss 2.928645\n",
      "Epoch 3500, Loss 2.927828\n",
      "Epoch 4000, Loss 2.927679\n",
      "Epoch 4500, Loss 2.927652\n"
     ]
    }
   ],
   "source": [
    "########################################\n",
    "# ALTES MODELL:\n",
    "########################################\n",
    "\n",
    "values = np.loadtxt('vl5_data.csv')\n",
    "t_u_alt = np.array(values[:,1])\n",
    "t_c_alt = np.array(values[:,0])\n",
    "\n",
    "def model_alt(t_u_alt, w_alt, b_alt):\n",
    "    return w_alt * t_u_alt + b_alt\n",
    "\n",
    "def loss_fn_alt(t_p_alt, t_c_alt):\n",
    "    sq_diff_alt = (t_p_alt - t_c_alt)**2\n",
    "    return sq_diff_alt.mean()\n",
    "\n",
    "def dloss_fn_alt(t_p_alt, t_c_alt):\n",
    "    return 2*(t_p_alt-t_c_alt) / t_p_alt.size\n",
    "\n",
    "def dmodel_dw_alt(t_u_alt, w_alt, b_alt):\n",
    "    return t_u_alt\n",
    "\n",
    "def dmodel_db_alt(t_u_alt, w_alt, b_alt):\n",
    "    return 1.0\n",
    "\n",
    "def grad_fn_alt(t_u_alt, t_c_alt, t_p_alt, w_alt, b_alt):\n",
    "    dloss_dtp_alt = dloss_fn_alt(t_p_alt, t_c_alt)\n",
    "    dloss_dw_alt = dloss_dtp_alt * dmodel_dw_alt(t_u_alt, w_alt, b_alt)\n",
    "    dloss_db_alt = dloss_dtp_alt * dmodel_db_alt(t_u_alt, w_alt, b_alt)\n",
    "    return np.array([dloss_dw_alt.sum(), dloss_db_alt.sum()])\n",
    "\n",
    "\n",
    "def training_loop_alt(n_epochs_alt, learning_rate_alt, params_alt, t_u_alt, t_c_alt):\n",
    "    for i in range(n_epochs_alt):\n",
    "        t_p_alt = model_alt(t_u_alt, *params_alt)\n",
    "        loss = loss_fn_alt(t_p_alt,t_c_alt)\n",
    "        grad_alt = grad_fn_alt(t_u_alt, t_c_alt, t_p_alt, *params_alt)\n",
    "        params_alt = params_alt - learning_rate_alt * grad_alt\n",
    "        if i % 500 == 0 or i == 1:\n",
    "            print('Epoch %d, Loss %f' % (i, float(loss)))\n",
    "    return params_alt\n",
    "\n",
    "w_alt = np.ones(1)\n",
    "b_alt = np.zeros(1)\n",
    "learning_rate_alt = 1e-2\n",
    "\n",
    "t_un_alt = t_u_alt * 0.1\n",
    "params_alt = training_loop_alt(5000, learning_rate_alt, np.array([w_alt, b_alt]).flatten(), t_un_alt, t_c_alt)\n",
    "\n",
    "t_p_alt = model_alt(t_un_alt, *params_alt)\n"
   ]
  },
  {
   "cell_type": "code",
   "execution_count": 84,
   "metadata": {},
   "outputs": [],
   "source": [
    "########################################\n",
    "# NEUES MODELL:\n",
    "########################################\n",
    "values = np.loadtxt('vl5_data.csv')\n",
    "t_u = torch.tensor(values[:,1])\n",
    "t_c = torch.tensor(values[:,0])"
   ]
  },
  {
   "cell_type": "code",
   "execution_count": 85,
   "metadata": {},
   "outputs": [],
   "source": [
    "params = torch.tensor([1.0, 0.0, 0.0], requires_grad=True)"
   ]
  },
  {
   "cell_type": "code",
   "execution_count": 86,
   "metadata": {},
   "outputs": [],
   "source": [
    "def model(t_u, w1, w2, b):\n",
    "    return w2 * t_u ** 2 + w1 * t_u + b\n",
    "\n",
    "def loss_fn(t_p, t_c):\n",
    "    sq_diff = (t_p - t_c)**2\n",
    "    return sq_diff.mean()\n",
    "\n",
    "def dloss_fn(t_p, t_c):\n",
    "    return 2*(t_p-t_c) / t_p.size(0)\n",
    "\n",
    "def dmodel_dw(t_u, w, b):\n",
    "    return t_u\n",
    "\n",
    "def dmodel_db(t_u, w, b):\n",
    "    return 1.0\n",
    "\n",
    "def grad_fn(t_u, t_c, t_p, w1, w2, b):\n",
    "    dloss_dtp = dloss_fn(t_p, t_c)\n",
    "    dloss_dw1 = dloss_dtp * dmodel_dw(t_u, w1, w2, b)\n",
    "    dloss_dw2 = dloss_dtp * dmodel_dw(t_u ** 2, w2, w1, b)\n",
    "    dloss_db = dloss_dtp * dmodel_db(t_u, w1, w2, b)\n",
    "    return torch.stack([dloss_dw1.sum(), dloss_dw2.sum(), dloss_db.sum()])\n"
   ]
  },
  {
   "cell_type": "code",
   "execution_count": 87,
   "metadata": {},
   "outputs": [],
   "source": [
    "t_un = 0.1 * t_u"
   ]
  },
  {
   "cell_type": "code",
   "execution_count": 88,
   "metadata": {},
   "outputs": [],
   "source": [
    "loss = loss_fn(model(t_u, *params), t_c)\n",
    "loss.backward()\n"
   ]
  },
  {
   "cell_type": "code",
   "execution_count": 89,
   "metadata": {},
   "outputs": [],
   "source": [
    "def training_loop(n_epochs, optimizer, train_t_u, train_t_c, val_t_u, val_t_c):\n",
    "    for epoch in range(1, n_epochs + 1):\n",
    "        train_t_p = model(train_t_u, *params)\n",
    "        loss = loss_fn(train_t_p, train_t_c)\n",
    "        optimizer.zero_grad()\n",
    "        loss.backward()\n",
    "        optimizer.step()\n",
    "        if epoch % 500 == 0 or epoch == 1:\n",
    "            val_t_p = model(val_t_u, *params)\n",
    "            val_loss = loss_fn(val_t_p, val_t_c)\n",
    "            print('Epoch %d, Loss %f, val-Loss %f' % (epoch, float(loss), float(val_loss)))\n",
    "    return params\n",
    "\n"
   ]
  },
  {
   "cell_type": "code",
   "execution_count": 90,
   "metadata": {},
   "outputs": [],
   "source": [
    "n_samples = t_u.shape[0]\n",
    "n_val = int(0.5 * n_samples)\n",
    "\n",
    "shuffled_indices = torch.randperm(n_samples)\n",
    "train_indices = shuffled_indices[:-n_val]\n",
    "val_indices = shuffled_indices[-n_val:]\n",
    "\n",
    "train_t_u = t_u[train_indices]\n",
    "train_t_c = t_c[train_indices]\n",
    "\n",
    "val_t_u = t_u[val_indices]\n",
    "val_t_c = t_c[val_indices]\n",
    "\n",
    "train_t_un = 0.1 * train_t_u\n",
    "val_t_un = 0.1 * val_t_u"
   ]
  },
  {
   "cell_type": "code",
   "execution_count": 91,
   "metadata": {},
   "outputs": [],
   "source": [
    "import torch.optim as optim"
   ]
  },
  {
   "cell_type": "code",
   "execution_count": 92,
   "metadata": {},
   "outputs": [
    {
     "name": "stdout",
     "output_type": "stream",
     "text": [
      "Epoch 1, Loss 120.322600, val-Loss 30.456758\n",
      "Epoch 500, Loss 2.353396, val-Loss 13.478260\n",
      "Epoch 1000, Loss 1.609959, val-Loss 8.061659\n",
      "Epoch 1500, Loss 1.597846, val-Loss 7.468405\n",
      "Epoch 2000, Loss 1.594193, val-Loss 7.376446\n",
      "Epoch 2500, Loss 1.589727, val-Loss 7.283676\n",
      "Epoch 3000, Loss 1.584494, val-Loss 7.170373\n",
      "Epoch 3500, Loss 1.578626, val-Loss 7.035912\n",
      "Epoch 4000, Loss 1.572365, val-Loss 6.881253\n",
      "Epoch 4500, Loss 1.566069, val-Loss 6.709525\n",
      "Epoch 5000, Loss 1.560187, val-Loss 6.526596\n"
     ]
    },
    {
     "data": {
      "image/png": "[encoded data removed]",
      "text/plain": [
       "<Figure size 640x480 with 1 Axes>"
      ]
     },
     "metadata": {},
     "output_type": "display_data"
    },
    {
     "name": "stdout",
     "output_type": "stream",
     "text": [
      "FRAGE: Ist der „Loss“ mit dem neuen Modell größer oder kleiner? \n",
      "Vergleicht man den \"Loss\" der beiden Modell, dann lässt sich feststellen, dass der \"Loss\" mit dem neuen Modell kleiner ist.\n",
      "\n",
      "FRAGE: Sieht das Ergebnis mit dem neuen Modell besser oder schlechter aus? \n",
      "Ein Ziel ist es, den Verlust (\"Loss\") neidrig zu halten. Da dieser beim neuen Modell neidriger ist, haben wir in der Hinsicht ein besseres neues Modell. \n",
      "Zudem haben die Trainings- und Validierungsverluste unterschiedliche absolute Werte, aber ähnliche Tendenzen:  \n",
      "Das Overfitting ist unter Kontrolle.\n"
     ]
    }
   ],
   "source": [
    "learning_rate = 1e-2\n",
    "optimizer = optim.Adam([params], lr=learning_rate)\n",
    "\n",
    "t_p = model(t_u, *params)\n",
    "loss = loss_fn(t_p, t_c)\n",
    "optimizer.zero_grad()\n",
    "loss.backward()\n",
    "\n",
    "params = training_loop(\n",
    "    n_epochs = 5000, \n",
    "    optimizer = optimizer,\n",
    "    train_t_u = train_t_un, \n",
    "    train_t_c = train_t_c,\n",
    "    val_t_u = val_t_un,\n",
    "    val_t_c = val_t_c)\n",
    "t_p = model(t_un, params[0], params[1], params[2])\n",
    "\n",
    "plt.plot(t_u,t_c,'x')\n",
    "plt.plot(t_u.detach().numpy(),t_p.detach().numpy(),'x', label=\"changes new model\")\n",
    "plt.plot(t_u_alt, t_p_alt,'x', label=\"changes old model\")\n",
    "plt.title('\"Gradient Decent\" example')\n",
    "plt.xlabel('Measurement')\n",
    "plt.ylabel('Temperature in °C')\n",
    "plt.legend(loc=\"upper left\")\n",
    "plt.show()\n",
    "\n",
    "\n",
    "print('FRAGE: Ist der „Loss“ mit dem neuen Modell größer oder kleiner? ')\n",
    "print('Vergleicht man den \"Loss\" der beiden Modell, dann lässt sich feststellen, dass der \"Loss\" mit dem neuen Modell kleiner ist.'+'\\n' )\n",
    "print('FRAGE: Sieht das Ergebnis mit dem neuen Modell besser oder schlechter aus? ')\n",
    "print('Ein Ziel ist es, den Verlust (\"Loss\") neidrig zu halten. Da dieser beim neuen Modell neidriger ist, haben wir in der Hinsicht ein besseres neues Modell. '+'\\n' +\n",
    "      'Zudem haben die Trainings- und Validierungsverluste unterschiedliche absolute Werte, aber ähnliche Tendenzen:  '+'\\n'+\n",
    "      'Das Overfitting ist unter Kontrolle.')\n",
    "\n",
    "\n"
   ]
  }
 ],
 "metadata": {
  "kernelspec": {
   "display_name": "ml",
   "language": "python",
   "name": "python3"
  },
  "language_info": {
   "codemirror_mode": {
    "name": "ipython",
    "version": 3
   },
   "file_extension": ".py",
   "mimetype": "text/x-python",
   "name": "python",
   "nbconvert_exporter": "python",
   "pygments_lexer": "ipython3",
   "version": "3.9.13"
  },
  "orig_nbformat": 4
 },
 "nbformat": 4,
 "nbformat_minor": 2
}
